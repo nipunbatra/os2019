{
 "cells": [
  {
   "cell_type": "code",
   "execution_count": 105,
   "metadata": {},
   "outputs": [],
   "source": [
    "import pandas as pd\n",
    "import pickle\n",
    "import os\n",
    "import datetime"
   ]
  },
  {
   "cell_type": "code",
   "execution_count": 106,
   "metadata": {},
   "outputs": [],
   "source": [
    "if not os.path.exists('already-done.txt'):\n",
    "    already_done = []\n",
    "else:\n",
    "    already_done = list(set([int(x.replace(\"\\n\", \"\")) for x in open('already-done.txt','r').readlines()]))"
   ]
  },
  {
   "cell_type": "code",
   "execution_count": 107,
   "metadata": {},
   "outputs": [
    {
     "data": {
      "text/plain": [
       "[16110083,\n",
       " 16110084,\n",
       " 16110091,\n",
       " 16110094,\n",
       " 16110100,\n",
       " 16110103,\n",
       " 16110104,\n",
       " 16110105,\n",
       " 16110108,\n",
       " 15110053,\n",
       " 16110119,\n",
       " 16110120,\n",
       " 16110125,\n",
       " 17310001,\n",
       " 16110136,\n",
       " 16110141,\n",
       " 16110142,\n",
       " 16110143,\n",
       " 16110016,\n",
       " 16110147,\n",
       " 16110020,\n",
       " 16110149,\n",
       " 16110150,\n",
       " 16110148,\n",
       " 16110024,\n",
       " 16110026,\n",
       " 16110027,\n",
       " 16110157,\n",
       " 16110047,\n",
       " 16110048,\n",
       " 16110053,\n",
       " 16110059,\n",
       " 16110062,\n",
       " 15110004,\n",
       " 15110015]"
      ]
     },
     "execution_count": 107,
     "metadata": {},
     "output_type": "execute_result"
    }
   ],
   "source": [
    "already_done"
   ]
  },
  {
   "cell_type": "code",
   "execution_count": 108,
   "metadata": {},
   "outputs": [],
   "source": [
    "df = pd.read_csv(\"/Users/nipun/Downloads/CS-Heroes - Sheet1.csv\")"
   ]
  },
  {
   "cell_type": "code",
   "execution_count": 109,
   "metadata": {},
   "outputs": [
    {
     "name": "stdout",
     "output_type": "stream",
     "text": [
      "Looks like random is hard on: 1    Anand Yadav\n",
      "Name: Student Name, dtype: object\n",
      "Looks like random is hard on: 1    Anand Yadav\n",
      "Name: Student Name, dtype: object\n",
      "Looks like random is hard on: 10    Debanuj Nayak\n",
      "Name: Student Name, dtype: object\n",
      "Looks like random is hard on: 27    S Vinu Sankar\n",
      "Name: Student Name, dtype: object\n",
      "Looks like random is hard on: 6    Atishay Jain Atishay Jain\n",
      "Name: Student Name, dtype: object\n",
      "Looks like random is hard on: 21    Parmar Monarch\n",
      "Name: Student Name, dtype: object\n",
      "Looks like random is hard on: 23    Rahul Challa\n",
      "Name: Student Name, dtype: object\n",
      "Looks like random is hard on: 12    Gohil Varun\n",
      "Name: Student Name, dtype: object\n",
      "Looks like random is hard on: 15    Kunal Verma\n",
      "Name: Student Name, dtype: object\n",
      "Looks like random is hard on: 32    Tom Issac\n",
      "Name: Student Name, dtype: object\n"
     ]
    }
   ],
   "source": [
    "found_new = False\n",
    "while(not found_new):\n",
    "    sel = df.sample(n=1)['RollNo'].values[0]\n",
    "    if sel not in already_done:\n",
    "        found_new = True\n",
    "    else:\n",
    "        print(\"Looks like random is hard on: {}\".format(df[df['RollNo']==sel]['Student Name']))"
   ]
  },
  {
   "cell_type": "code",
   "execution_count": 110,
   "metadata": {},
   "outputs": [],
   "source": [
    "already_done.append(sel)\n"
   ]
  },
  {
   "cell_type": "code",
   "execution_count": 111,
   "metadata": {},
   "outputs": [],
   "source": [
    "with open('already-done.txt','w') as g:\n",
    "    for roll in already_done:\n",
    "        g.write(\"%d\\n\" %roll)"
   ]
  },
  {
   "cell_type": "code",
   "execution_count": 112,
   "metadata": {},
   "outputs": [
    {
     "name": "stdout",
     "output_type": "stream",
     "text": [
      "********************************************************************************\n",
      "The chosen one for 2018-10-14\n",
      "********************************************************************************\n",
      "      RollNo   Student Name                   Email Id\n",
      "24  16110137  Rendla Aditya  rendla.aditya@iitgn.ac.in\n",
      "********************************************************************************\n"
     ]
    }
   ],
   "source": [
    "print(\"*\"*80)\n",
    "tom = datetime.date.today() + datetime.timedelta(days=1)\n",
    "print(\"The chosen one for {}\".format(tom))\n",
    "print(\"*\"*80)\n",
    "print(df[df['RollNo']==sel][['RollNo','Student Name', 'Email Id']])\n",
    "print(\"*\"*80)"
   ]
  },
  {
   "cell_type": "code",
   "execution_count": 113,
   "metadata": {},
   "outputs": [
    {
     "data": {
      "text/plain": [
       "36"
      ]
     },
     "execution_count": 113,
     "metadata": {},
     "output_type": "execute_result"
    }
   ],
   "source": [
    "len(already_done)"
   ]
  },
  {
   "cell_type": "code",
   "execution_count": null,
   "metadata": {},
   "outputs": [],
   "source": []
  }
 ],
 "metadata": {
  "kernelspec": {
   "display_name": "Python 3",
   "language": "python",
   "name": "python3"
  },
  "language_info": {
   "codemirror_mode": {
    "name": "ipython",
    "version": 3
   },
   "file_extension": ".py",
   "mimetype": "text/x-python",
   "name": "python",
   "nbconvert_exporter": "python",
   "pygments_lexer": "ipython3",
   "version": "3.6.5"
  }
 },
 "nbformat": 4,
 "nbformat_minor": 2
}
